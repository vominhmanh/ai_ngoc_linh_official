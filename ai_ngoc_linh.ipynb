{
 "cells": [
  {
   "cell_type": "code",
   "execution_count": 1,
   "id": "1d8d6aea",
   "metadata": {},
   "outputs": [
    {
     "name": "stdout",
     "output_type": "stream",
     "text": [
      "Collecting requests\n",
      "  Using cached requests-2.32.5-py3-none-any.whl.metadata (4.9 kB)\n",
      "Collecting charset_normalizer<4,>=2 (from requests)\n",
      "  Using cached charset_normalizer-3.4.4-cp311-cp311-win_amd64.whl.metadata (38 kB)\n",
      "Collecting idna<4,>=2.5 (from requests)\n",
      "  Using cached idna-3.11-py3-none-any.whl.metadata (8.4 kB)\n",
      "Collecting urllib3<3,>=1.21.1 (from requests)\n",
      "  Using cached urllib3-2.5.0-py3-none-any.whl.metadata (6.5 kB)\n",
      "Collecting certifi>=2017.4.17 (from requests)\n",
      "  Using cached certifi-2025.10.5-py3-none-any.whl.metadata (2.5 kB)\n",
      "Using cached requests-2.32.5-py3-none-any.whl (64 kB)\n",
      "Using cached charset_normalizer-3.4.4-cp311-cp311-win_amd64.whl (106 kB)\n",
      "Using cached idna-3.11-py3-none-any.whl (71 kB)\n",
      "Using cached urllib3-2.5.0-py3-none-any.whl (129 kB)\n",
      "Using cached certifi-2025.10.5-py3-none-any.whl (163 kB)\n",
      "Installing collected packages: urllib3, idna, charset_normalizer, certifi, requests\n",
      "\n",
      "   ---------------------------------------- 0/5 [urllib3]\n",
      "   ---------------------------------------- 0/5 [urllib3]\n",
      "   ---------------------------------------- 0/5 [urllib3]\n",
      "   ---------------------------------------- 0/5 [urllib3]\n",
      "   ---------------------------------------- 0/5 [urllib3]\n",
      "   ---------------------------------------- 0/5 [urllib3]\n",
      "   ---------------------------------------- 0/5 [urllib3]\n",
      "   ---------------------------------------- 0/5 [urllib3]\n",
      "   -------- ------------------------------- 1/5 [idna]\n",
      "   -------- ------------------------------- 1/5 [idna]\n",
      "   -------- ------------------------------- 1/5 [idna]\n",
      "   ---------------- ----------------------- 2/5 [charset_normalizer]\n",
      "   ---------------- ----------------------- 2/5 [charset_normalizer]\n",
      "   ------------------------ --------------- 3/5 [certifi]\n",
      "   -------------------------------- ------- 4/5 [requests]\n",
      "   -------------------------------- ------- 4/5 [requests]\n",
      "   -------------------------------- ------- 4/5 [requests]\n",
      "   ---------------------------------------- 5/5 [requests]\n",
      "\n",
      "Successfully installed certifi-2025.10.5 charset_normalizer-3.4.4 idna-3.11 requests-2.32.5 urllib3-2.5.0\n"
     ]
    }
   ],
   "source": [
    "! pip install requests"
   ]
  },
  {
   "cell_type": "code",
   "execution_count": 1,
   "id": "8356927d",
   "metadata": {},
   "outputs": [
    {
     "ename": "SyntaxError",
     "evalue": "invalid non-printable character U+2003 (3759682608.py, line 61)",
     "output_type": "error",
     "traceback": [
      "  \u001b[36mCell\u001b[39m\u001b[36m \u001b[39m\u001b[32mIn[1]\u001b[39m\u001b[32m, line 61\u001b[39m\n\u001b[31m    \u001b[39m\n    ^\n\u001b[31mSyntaxError\u001b[39m\u001b[31m:\u001b[39m invalid non-printable character U+2003\n"
     ]
    }
   ],
   "source": [
    "\n",
    "import requests\n",
    "import json\n",
    "import base64\n",
    "from datetime import datetime\n",
    "from IPython.display import display, Image as IPyImage\n",
    "\n",
    "AI_API_BASE = \"https://api.thucchien.ai/v1\"\n",
    "AI_API_KEY = \"sk-97rJFHA-3LmTPPI74ahnZw\"  # Khuyến nghị: dùng biến môi trường thay vì hard-code\n",
    "\n",
    "url = f\"{AI_API_BASE}/images/generations\"\n",
    "headers = {\n",
    "    \"Content-Type\": \"application/json\",\n",
    "    \"Authorization\": f\"Bearer {AI_API_KEY}\"\n",
    "}\n",
    "data = {\n",
    "    # 'images': \"\",\n",
    "    \"model\": \"imagen-4\",\n",
    "    # \"prompt\": \"Create a full-body photorealistic image of a virtual Asian TV news presenter, inspired by the professional style of Vietnamese national television. The presenter faces the camera (front view), standing tall with a gentle, graceful shift in posture to suggest slight movement. Shoulder-length straight black hair. Cheerful, friendly expression. Wearing a traditional Vietnamese áo dài in bright red with a single large five-point yellow star centered on the chest; flowing panels and simple matching pants. Seamless white studio background. Professional soft key light with subtle rim light, natural skin tones, crisp focus from head to toe. Vertical portrait composition, subject centered, entire body in frame. High dynamic range, ultra-detailed, 4K. No text, no logos, no watermark.\",\n",
    "    \"prompt\": \"Create an empty indoor TV news studio inspired by modern Vietnamese national television sets — no logos or text. Ultra-wide panoramic view that captures the entire studio in a 16:9 frame (3840×2160). Cinematic wide-angle lens (≈16–20 mm full-frame). A luxurious, contemporary stage made of modern materials (brushed metal, glass, polished stone, warm wood accents). A long, curved LED wall runs across the stage in a wide arc; its height is exactly half the stage height. Place a long anchor desk close to the LED wall; the LED wall is clearly taller than the desk. Leave a generous open floor area in front of the desk large enough for multiple people to stand. Clean broadcast lighting with soft overhead grids, subtle rim and floor reflections; neutral white balance. Composition centered and symmetrical with clear leading lines. Photorealistic, HDR, ultra-detailed, 4K. No people, no watermarks, no extra text.\",\n",
    "    \"n\": 3,                     # <-- int, không phải chuỗi\n",
    "    \"aspect_ratio\": \"16:9\"\n",
    "}\n",
    "\n",
    "response = requests.post(url, headers=headers, data=json.dumps(data))\n",
    "\n",
    "if response.ok:\n",
    "    result = response.json()\n",
    "    items = result[\"data\"]\n",
    "\n",
    "    for idx, item in enumerate(items, start=1): \n",
    "        # Lấy ảnh (b64 hoặc url)\n",
    "        if \"b64_json\" in item and item[\"b64_json\"]:\n",
    "            img_bytes = base64.b64decode(item[\"b64_json\"])\n",
    "            revised_prompt = item[\"revised_prompt\"]\n",
    "        elif \"url\" in item and item[\"url\"]:\n",
    "            # fallback nếu server trả về URL thay vì base64\n",
    "            img_resp = requests.get(item[\"url\"])\n",
    "            img_resp.raise_for_status()\n",
    "            img_bytes = img_resp.content\n",
    "        else:\n",
    "            raise RuntimeError(\"No image content found in response.\")\n",
    "\n",
    "        # Tên file tự động theo timestamp\n",
    "        ts = datetime.now().strftime(\"%Y%m%d_%H%M%S\")\n",
    "        fname = f\"generated_image_{ts}_{idx}.png\"\n",
    "        with open(fname, \"wb\") as f:\n",
    "            f.write(img_bytes)\n",
    "\n",
    "        print(f\"Image saved to {fname}\")\n",
    "        # Hiển thị ngay trong notebook\n",
    "        display(IPyImage(data=img_bytes))\n",
    "        print()\n",
    "        print('revised_prompt', revised_prompt)\n",
    "else:\n",
    "    print(f\"Error: {response.status_code}\")\n",
    "    try:\n",
    "        print(response.json())\n",
    "    except Exception:\n",
    "        print(response.text)\n",
    "\n",
    " \n"
   ]
  }
 ],
 "metadata": {
  "kernelspec": {
   "display_name": ".venv",
   "language": "python",
   "name": "python3"
  },
  "language_info": {
   "codemirror_mode": {
    "name": "ipython",
    "version": 3
   },
   "file_extension": ".py",
   "mimetype": "text/x-python",
   "name": "python",
   "nbconvert_exporter": "python",
   "pygments_lexer": "ipython3",
   "version": "3.11.9"
  }
 },
 "nbformat": 4,
 "nbformat_minor": 5
}
